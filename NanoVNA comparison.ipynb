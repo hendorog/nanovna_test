{
 "cells": [
  {
   "cell_type": "code",
   "execution_count": 1,
   "metadata": {},
   "outputs": [],
   "source": [
    "import skrf as rf\n",
    "from skrf.calibration import OnePort\n",
    "%matplotlib inline\n",
    "from pylab import *\n",
    "rf.stylely()\n",
    "\n",
    "\n",
    "tests = rf.read_all('data/tests/')\n",
    "\n",
    "tests['gecko test1'].plot_s_db()\n",
    "tests['hugen test1'].plot_s_db()"
   ]
  },
  {
   "cell_type": "code",
   "execution_count": null,
   "metadata": {},
   "outputs": [],
   "source": []
  }
 ],
 "metadata": {
  "kernelspec": {
   "display_name": "Python 3",
   "language": "python",
   "name": "python3"
  },
  "language_info": {
   "codemirror_mode": {
    "name": "ipython",
    "version": 3
   },
   "file_extension": ".py",
   "mimetype": "text/x-python",
   "name": "python",
   "nbconvert_exporter": "python",
   "pygments_lexer": "ipython3",
   "version": "3.7.3"
  }
 },
 "nbformat": 4,
 "nbformat_minor": 2
}
